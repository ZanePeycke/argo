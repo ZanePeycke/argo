{
 "cells": [
  {
   "cell_type": "code",
   "execution_count": null,
   "metadata": {},
   "outputs": [],
   "source": [
    "# If changes are made we need to update this\n",
    "!pip install -r https://peyck.es/dl/argo/requirements.txt\n",
    "\n",
    "# Clone the argo repository\n",
    "!git clone -l -s git://github.com/argoai/argoverse-api.git argodataset\n",
    "    \n",
    "# Mount our google cloud storage bucket\n",
    "# Change the name when we move to VM\n",
    "!mkdir argo_GCS_bucket\n",
    "!gcsfuse --implicit-dirs argo_shared argo_GCS_bucket\n",
    "\n",
    "# Unzip argo data and install remaining argo dependencies\n",
    "!unzip argo_GCS_bucket/forecasting-sample/forecasting_sample\n",
    "!unzip argo_GCS_bucket/map-data/hd_maps -d argodataset\n",
    "!unzip argo_GCS_bucket/precomputed-features/argo-features/precomputed-features.zip -d precomputed-features\n",
    "!pip install -e argodataset\n",
    "\n",
    "# Unzip data fro train/val/test\n",
    "!mkdir data\n",
    "import shutil\n",
    "shutil.unpack_archive('argo_GCS_bucket/data/forecasting_train_v1.1.tar.gz','/home/jupyter/data')\n",
    "# shutil.unpack_archive('argo_GCS_bucket/data/forecasting_val_v1.1.tar.gz','/home/jupyter/data') #Don't have this yet\n",
    "shutil.unpack_archive('argo_GCS_bucket/data/forecasting_test_v1.1.tar.gz','/home/jupyter/data')"
   ]
  },
  {
   "cell_type": "code",
   "execution_count": 1,
   "metadata": {},
   "outputs": [],
   "source": [
    "# After the first installation you may need to restart the kernel for this to work. \n",
    "import argoverse"
   ]
  },
  {
   "cell_type": "code",
   "execution_count": 4,
   "metadata": {},
   "outputs": [
    {
     "name": "stdout",
     "output_type": "stream",
     "text": [
      "Archive:  argo_GCS_bucket/data/forecasting_train_v1.1.tar.gz\n",
      "  End-of-central-directory signature not found.  Either this file is not\n",
      "  a zipfile, or it constitutes one disk of a multi-part archive.  In the\n",
      "  latter case the central directory and zipfile comment will be found on\n",
      "  the last disk(s) of this archive.\n",
      "unzip:  cannot find zipfile directory in one of argo_GCS_bucket/data/forecasting_train_v1.1.tar.gz or\n",
      "        argo_GCS_bucket/data/forecasting_train_v1.1.tar.gz.zip, and cannot find argo_GCS_bucket/data/forecasting_train_v1.1.tar.gz.ZIP, period.\n"
     ]
    }
   ],
   "source": []
  },
  {
   "cell_type": "code",
   "execution_count": 7,
   "metadata": {},
   "outputs": [],
   "source": []
  },
  {
   "cell_type": "code",
   "execution_count": 8,
   "metadata": {},
   "outputs": [],
   "source": []
  },
  {
   "cell_type": "code",
   "execution_count": null,
   "metadata": {},
   "outputs": [],
   "source": []
  }
 ],
 "metadata": {
  "kernelspec": {
   "display_name": "Python 3",
   "language": "python",
   "name": "python3"
  },
  "language_info": {
   "codemirror_mode": {
    "name": "ipython",
    "version": 3
   },
   "file_extension": ".py",
   "mimetype": "text/x-python",
   "name": "python",
   "nbconvert_exporter": "python",
   "pygments_lexer": "ipython3",
   "version": "3.7.6"
  }
 },
 "nbformat": 4,
 "nbformat_minor": 4
}
