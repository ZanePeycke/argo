{
 "cells": [
  {
   "cell_type": "code",
   "execution_count": null,
   "metadata": {},
   "outputs": [],
   "source": [
    "# Clone the Argo API and baseline repositories\n",
    "!git clone git://github.com/argoai/argoverse-api.git argodataset\n",
    "!git clone git://github.com/winding-lines/argoverse-forecasting argoverse-forecasting\n",
    "!git clone git://github.com/zanepeycke/argo peyckez_argo\n",
    "\n",
    "    \n",
    "# Mount our google cloud storage bucket\n",
    "!mkdir argo_GCS_bucket\n",
    "!gcsfuse --implicit-dirs argo_shared argo_GCS_bucket\n",
    "!pip install -r argo_GCS_bucket/requirements.txt\n",
    "\n",
    "# Unzip argo data and install remaining argo dependencies\n",
    "# See data loading instructions and locationsfrom Argo API official baseline repositories\n",
    "# git://github.com/argoai/argoverse-api.git\n",
    "# git://github.com/winding-lines/argoverse-forecasting\n",
    "!unzip argo_GCS_bucket/forecasting-sample/forecasting_sample\n",
    "!unzip argo_GCS_bucket/map-data/hd_maps -d argodataset\n",
    "!unzip argo_GCS_bucket/precomputed-features/argo-features/precomputed-features.zip -d precomputed-features\n",
    "!pip install -e argodataset\n",
    "\n",
    "# Unzip data from train/val/test\n",
    "!mkdir data\n",
    "import shutil\n",
    "shutil.unpack_archive('argo_GCS_bucket/data/forecasting_train_v1.1.tar.gz','/home/jupyter/data')\n",
    "# shutil.unpack_archive('argo_GCS_bucket/data/forecasting_val_v1.1.tar.gz','/home/jupyter/data') #Don't have this yet\n",
    "shutil.unpack_archive('argo_GCS_bucket/data/forecasting_test_v1.1.tar.gz','/home/jupyter/data')\n",
    "\n",
    "# Location for predictions\n",
    "!mkdir forecasted-trajectories\n",
    "\n",
    "# Locationsdd for submission files, checkpoints, and model paths\n",
    "!mkdir competition_submissions\n",
    "!mkdir checkpoints\n",
    "!mkdir model_path"
   ]
  },
  {
   "cell_type": "code",
   "execution_count": 7,
   "metadata": {},
   "outputs": [],
   "source": [
    "# After the first installation you will need to restart the kernel for this to work. \n",
    "import argoverse"
   ]
  }
 ],
 "metadata": {
  "kernelspec": {
   "display_name": "Python 3",
   "language": "python",
   "name": "python3"
  },
  "language_info": {
   "codemirror_mode": {
    "name": "ipython",
    "version": 3
   },
   "file_extension": ".py",
   "mimetype": "text/x-python",
   "name": "python",
   "nbconvert_exporter": "python",
   "pygments_lexer": "ipython3",
   "version": "3.7.6"
  }
 },
 "nbformat": 4,
 "nbformat_minor": 4
}
